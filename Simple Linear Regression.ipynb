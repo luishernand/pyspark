{
 "cells": [
  {
   "cell_type": "markdown",
   "id": "detailed-animation",
   "metadata": {},
   "source": [
    "# Pyspark Simple Linear Regression"
   ]
  },
  {
   "cell_type": "code",
   "execution_count": 1,
   "id": "existing-confirmation",
   "metadata": {},
   "outputs": [],
   "source": [
    "from pyspark.sql import SparkSession"
   ]
  },
  {
   "cell_type": "code",
   "execution_count": 2,
   "id": "palestinian-gnome",
   "metadata": {},
   "outputs": [],
   "source": [
    "spark = SparkSession.builder.appName('simple Regressor').getOrCreate()"
   ]
  },
  {
   "cell_type": "code",
   "execution_count": 3,
   "id": "administrative-yugoslavia",
   "metadata": {},
   "outputs": [],
   "source": [
    "student = spark.read.csv('Student_Grades_Data.csv', header=True, inferSchema=True)"
   ]
  },
  {
   "cell_type": "code",
   "execution_count": 4,
   "id": "funky-surveillance",
   "metadata": {},
   "outputs": [
    {
     "name": "stdout",
     "output_type": "stream",
     "text": [
      "root\n",
      " |-- Time_to_Study: integer (nullable = true)\n",
      " |-- Grades: double (nullable = true)\n",
      "\n"
     ]
    }
   ],
   "source": [
    "student.printSchema()"
   ]
  },
  {
   "cell_type": "code",
   "execution_count": 8,
   "id": "annual-boundary",
   "metadata": {},
   "outputs": [
    {
     "name": "stdout",
     "output_type": "stream",
     "text": [
      "+-------------+------+\n",
      "|Time_to_Study|Grades|\n",
      "+-------------+------+\n",
      "|            1|   1.5|\n",
      "|            5|   2.7|\n",
      "|            7|   3.1|\n",
      "|            3|   2.1|\n",
      "|            2|   1.8|\n",
      "+-------------+------+\n",
      "only showing top 5 rows\n",
      "\n"
     ]
    }
   ],
   "source": [
    "\n",
    "\n",
    "student.show(5)"
   ]
  },
  {
   "cell_type": "markdown",
   "id": "twelve-expense",
   "metadata": {},
   "source": [
    "## Feature selection X_variable"
   ]
  },
  {
   "cell_type": "code",
   "execution_count": 12,
   "id": "exposed-poultry",
   "metadata": {},
   "outputs": [],
   "source": [
    "from pyspark.ml.feature import VectorAssembler"
   ]
  },
  {
   "cell_type": "code",
   "execution_count": 15,
   "id": "collaborative-berkeley",
   "metadata": {},
   "outputs": [],
   "source": [
    "va = VectorAssembler(inputCols=['Time_to_Study'], outputCol='X_features')"
   ]
  },
  {
   "cell_type": "code",
   "execution_count": 16,
   "id": "vital-metro",
   "metadata": {},
   "outputs": [],
   "source": [
    "data_features = va.transform(student)"
   ]
  },
  {
   "cell_type": "code",
   "execution_count": 17,
   "id": "varying-depth",
   "metadata": {},
   "outputs": [
    {
     "name": "stdout",
     "output_type": "stream",
     "text": [
      "+-------------+------+----------+\n",
      "|Time_to_Study|Grades|X_features|\n",
      "+-------------+------+----------+\n",
      "|            1|   1.5|     [1.0]|\n",
      "|            5|   2.7|     [5.0]|\n",
      "|            7|   3.1|     [7.0]|\n",
      "|            3|   2.1|     [3.0]|\n",
      "|            2|   1.8|     [2.0]|\n",
      "|            9|   3.9|     [9.0]|\n",
      "|            6|   2.9|     [6.0]|\n",
      "|           12|   4.5|    [12.0]|\n",
      "|           11|   4.3|    [11.0]|\n",
      "|            2|   1.8|     [2.0]|\n",
      "|            4|   2.4|     [4.0]|\n",
      "|            8|   3.5|     [8.0]|\n",
      "|           13|   4.8|    [13.0]|\n",
      "|            9|   3.9|     [9.0]|\n",
      "|           14|   5.0|    [14.0]|\n",
      "|           10|   4.1|    [10.0]|\n",
      "|            6|   2.9|     [6.0]|\n",
      "|           12|   4.5|    [12.0]|\n",
      "|            1|   1.5|     [1.0]|\n",
      "|            4|   2.4|     [4.0]|\n",
      "+-------------+------+----------+\n",
      "only showing top 20 rows\n",
      "\n"
     ]
    }
   ],
   "source": [
    "data_features.show()"
   ]
  },
  {
   "cell_type": "markdown",
   "id": "internal-america",
   "metadata": {},
   "source": [
    "## split into train_data, and test_data"
   ]
  },
  {
   "cell_type": "code",
   "execution_count": 18,
   "id": "secret-express",
   "metadata": {},
   "outputs": [],
   "source": [
    "train_data, test_data = data_features.randomSplit([0.70, 0.30])"
   ]
  },
  {
   "cell_type": "code",
   "execution_count": 19,
   "id": "whole-minister",
   "metadata": {},
   "outputs": [
    {
     "name": "stdout",
     "output_type": "stream",
     "text": [
      "+-------+-----------------+------------------+\n",
      "|summary|    Time_to_Study|            Grades|\n",
      "+-------+-----------------+------------------+\n",
      "|  count|               39|                39|\n",
      "|   mean|7.076923076923077|3.2153846153846146|\n",
      "| stddev|4.093541867410533|1.1172189300454147|\n",
      "|    min|                1|               1.5|\n",
      "|    max|               14|               5.0|\n",
      "+-------+-----------------+------------------+\n",
      "\n"
     ]
    }
   ],
   "source": [
    "train_data.describe().show()"
   ]
  },
  {
   "cell_type": "code",
   "execution_count": 20,
   "id": "early-punch",
   "metadata": {},
   "outputs": [
    {
     "name": "stdout",
     "output_type": "stream",
     "text": [
      "+-------+------------------+------------------+\n",
      "|summary|     Time_to_Study|            Grades|\n",
      "+-------+------------------+------------------+\n",
      "|  count|                11|                11|\n",
      "|   mean|7.2727272727272725|3.2454545454545456|\n",
      "| stddev| 4.076540422733696|1.1120824037486037|\n",
      "|    min|                 1|               1.5|\n",
      "|    max|                14|               5.0|\n",
      "+-------+------------------+------------------+\n",
      "\n"
     ]
    }
   ],
   "source": [
    "test_data.describe().show()"
   ]
  },
  {
   "cell_type": "code",
   "execution_count": 22,
   "id": "attended-shower",
   "metadata": {},
   "outputs": [
    {
     "name": "stdout",
     "output_type": "stream",
     "text": [
      "+-------------+------+----------+\n",
      "|Time_to_Study|Grades|X_features|\n",
      "+-------------+------+----------+\n",
      "|            1|   1.5|     [1.0]|\n",
      "|            1|   1.5|     [1.0]|\n",
      "|            1|   1.5|     [1.0]|\n",
      "|            2|   1.8|     [2.0]|\n",
      "|            2|   1.8|     [2.0]|\n",
      "+-------------+------+----------+\n",
      "only showing top 5 rows\n",
      "\n"
     ]
    }
   ],
   "source": [
    "train_data.show(5)"
   ]
  },
  {
   "cell_type": "markdown",
   "id": "technical-theorem",
   "metadata": {},
   "source": [
    "## Lienar Regressor"
   ]
  },
  {
   "cell_type": "code",
   "execution_count": 21,
   "id": "fifty-savings",
   "metadata": {},
   "outputs": [],
   "source": [
    "from pyspark.ml.regression import LinearRegression"
   ]
  },
  {
   "cell_type": "code",
   "execution_count": 25,
   "id": "guided-example",
   "metadata": {},
   "outputs": [],
   "source": [
    "model = LinearRegression(featuresCol='X_features', labelCol='Grades')\n",
    "lr = model.fit(train_data)"
   ]
  },
  {
   "cell_type": "markdown",
   "id": "relevant-gilbert",
   "metadata": {},
   "source": [
    "### Predict"
   ]
  },
  {
   "cell_type": "code",
   "execution_count": 26,
   "id": "lesbian-border",
   "metadata": {},
   "outputs": [],
   "source": [
    "yhat = lr.evaluate(test_data)"
   ]
  },
  {
   "cell_type": "code",
   "execution_count": 28,
   "id": "surrounded-robinson",
   "metadata": {},
   "outputs": [
    {
     "name": "stdout",
     "output_type": "stream",
     "text": [
      "+-------------+------+----------+------------------+\n",
      "|Time_to_Study|Grades|X_features|        prediction|\n",
      "+-------------+------+----------+------------------+\n",
      "|            1|   1.5|     [1.0]|1.5600507368929701|\n",
      "|            2|   1.8|     [2.0]|1.8324474510751396|\n",
      "|            4|   2.4|     [4.0]|2.3772408794394786|\n",
      "|            6|   2.9|     [6.0]|2.9220343078038176|\n",
      "|            7|   3.1|     [7.0]| 3.194431021985987|\n",
      "|            7|   3.1|     [7.0]| 3.194431021985987|\n",
      "|            8|   3.5|     [8.0]|3.4668277361681565|\n",
      "|            8|   3.5|     [8.0]|3.4668277361681565|\n",
      "|           10|   4.1|    [10.0]| 4.011621164532496|\n",
      "|           13|   4.8|    [13.0]| 4.828811307079004|\n",
      "|           14|   5.0|    [14.0]| 5.101208021261174|\n",
      "+-------------+------+----------+------------------+\n",
      "\n"
     ]
    }
   ],
   "source": [
    "#show the predicted values\n",
    "yhat.predictions.show()"
   ]
  },
  {
   "cell_type": "code",
   "execution_count": 29,
   "id": "residential-blast",
   "metadata": {},
   "outputs": [
    {
     "data": {
      "text/plain": [
       "DenseVector([0.2724])"
      ]
     },
     "execution_count": 29,
     "metadata": {},
     "output_type": "execute_result"
    }
   ],
   "source": [
    "lr.coefficients"
   ]
  },
  {
   "cell_type": "code",
   "execution_count": 30,
   "id": "rental-clearing",
   "metadata": {},
   "outputs": [
    {
     "data": {
      "text/plain": [
       "1.2876540227108006"
      ]
     },
     "execution_count": 30,
     "metadata": {},
     "output_type": "execute_result"
    }
   ],
   "source": [
    "lr.intercept"
   ]
  },
  {
   "cell_type": "markdown",
   "id": "religious-status",
   "metadata": {},
   "source": [
    "### Evaluate Model Using Metrics"
   ]
  },
  {
   "cell_type": "code",
   "execution_count": 31,
   "id": "controversial-welsh",
   "metadata": {},
   "outputs": [],
   "source": [
    "from pyspark.ml.evaluation import RegressionEvaluator"
   ]
  },
  {
   "cell_type": "code",
   "execution_count": 32,
   "id": "binary-technique",
   "metadata": {},
   "outputs": [],
   "source": [
    "evaluation = RegressionEvaluator(predictionCol='prediction', labelCol='Grades')"
   ]
  },
  {
   "cell_type": "code",
   "execution_count": 33,
   "id": "neither-injection",
   "metadata": {},
   "outputs": [
    {
     "data": {
      "text/plain": [
       "0.06366219365856986"
      ]
     },
     "execution_count": 33,
     "metadata": {},
     "output_type": "execute_result"
    }
   ],
   "source": [
    "#root mean squared error\n",
    "rmse = evaluation.evaluate(yhat.predictions,{evaluation.metricName: 'rmse'} )\n",
    "rmse"
   ]
  },
  {
   "cell_type": "code",
   "execution_count": 34,
   "id": "funky-eight",
   "metadata": {},
   "outputs": [
    {
     "data": {
      "text/plain": [
       "0.0040528749014212525"
      ]
     },
     "execution_count": 34,
     "metadata": {},
     "output_type": "execute_result"
    }
   ],
   "source": [
    "# mean squared error\n",
    "mse = evaluation.evaluate(yhat.predictions,{evaluation.metricName: 'mse'} )\n",
    "mse"
   ]
  },
  {
   "cell_type": "code",
   "execution_count": 35,
   "id": "metropolitan-communications",
   "metadata": {},
   "outputs": [
    {
     "data": {
      "text/plain": [
       "0.05553603197961739"
      ]
     },
     "execution_count": 35,
     "metadata": {},
     "output_type": "execute_result"
    }
   ],
   "source": [
    "# mean absolute error\n",
    "mae = evaluation.evaluate(yhat.predictions,{evaluation.metricName: 'mae'} )\n",
    "mae"
   ]
  },
  {
   "cell_type": "code",
   "execution_count": 36,
   "id": "equipped-modern",
   "metadata": {},
   "outputs": [
    {
     "data": {
      "text/plain": [
       "0.9963951935969423"
      ]
     },
     "execution_count": 36,
     "metadata": {},
     "output_type": "execute_result"
    }
   ],
   "source": [
    "#r2 \n",
    "r2 =evaluation.evaluate(yhat.predictions,{evaluation.metricName: 'r2'} )\n",
    "r2"
   ]
  },
  {
   "cell_type": "code",
   "execution_count": null,
   "id": "pacific-environment",
   "metadata": {},
   "outputs": [],
   "source": [
    "print('')"
   ]
  }
 ],
 "metadata": {
  "kernelspec": {
   "display_name": "Python 3",
   "language": "python",
   "name": "python3"
  },
  "language_info": {
   "codemirror_mode": {
    "name": "ipython",
    "version": 3
   },
   "file_extension": ".py",
   "mimetype": "text/x-python",
   "name": "python",
   "nbconvert_exporter": "python",
   "pygments_lexer": "ipython3",
   "version": "3.8.5"
  }
 },
 "nbformat": 4,
 "nbformat_minor": 5
}
