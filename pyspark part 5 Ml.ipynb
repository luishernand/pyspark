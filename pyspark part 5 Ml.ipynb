{
 "cells": [
  {
   "cell_type": "markdown",
   "id": "difficult-opposition",
   "metadata": {},
   "source": [
    "# Examples Of Pyspark ML"
   ]
  },
  {
   "cell_type": "markdown",
   "id": "similar-cornell",
   "metadata": {},
   "source": [
    "## 1. Dependencies"
   ]
  },
  {
   "cell_type": "code",
   "execution_count": 1,
   "id": "neutral-death",
   "metadata": {},
   "outputs": [],
   "source": [
    "from pyspark.sql import SparkSession"
   ]
  },
  {
   "cell_type": "markdown",
   "id": "ecological-luxury",
   "metadata": {},
   "source": [
    "## 2. Create a session"
   ]
  },
  {
   "cell_type": "code",
   "execution_count": 2,
   "id": "incident-clinic",
   "metadata": {},
   "outputs": [],
   "source": [
    "spark = SparkSession.builder.appName('ml_exmple').getOrCreate()"
   ]
  },
  {
   "cell_type": "markdown",
   "id": "buried-oklahoma",
   "metadata": {},
   "source": [
    "## 3. Read dataset"
   ]
  },
  {
   "cell_type": "code",
   "execution_count": 3,
   "id": "fallen-bouquet",
   "metadata": {},
   "outputs": [],
   "source": [
    "df = spark.read.csv('test1.csv', header=True, inferSchema=True)"
   ]
  },
  {
   "cell_type": "code",
   "execution_count": 4,
   "id": "directed-pressing",
   "metadata": {},
   "outputs": [
    {
     "name": "stdout",
     "output_type": "stream",
     "text": [
      "+---------+---+----------+------+\n",
      "|     Name|age|Experience|Salary|\n",
      "+---------+---+----------+------+\n",
      "|    Krish| 31|        10| 30000|\n",
      "|Sudhanshu| 30|         8| 25000|\n",
      "|    Sunny| 29|         4| 20000|\n",
      "|     Paul| 24|         3| 20000|\n",
      "|   Harsha| 21|         1| 15000|\n",
      "|  Shubham| 23|         2| 18000|\n",
      "+---------+---+----------+------+\n",
      "\n"
     ]
    }
   ],
   "source": [
    "df.show()"
   ]
  },
  {
   "cell_type": "code",
   "execution_count": 5,
   "id": "overall-photograph",
   "metadata": {},
   "outputs": [
    {
     "name": "stdout",
     "output_type": "stream",
     "text": [
      "root\n",
      " |-- Name: string (nullable = true)\n",
      " |-- age: integer (nullable = true)\n",
      " |-- Experience: integer (nullable = true)\n",
      " |-- Salary: integer (nullable = true)\n",
      "\n"
     ]
    }
   ],
   "source": [
    "df.printSchema()"
   ]
  },
  {
   "cell_type": "markdown",
   "id": "infectious-concept",
   "metadata": {},
   "source": [
    "## Select Features or combine"
   ]
  },
  {
   "cell_type": "code",
   "execution_count": 6,
   "id": "naval-delicious",
   "metadata": {},
   "outputs": [],
   "source": [
    "from pyspark.ml.feature import VectorAssembler"
   ]
  },
  {
   "cell_type": "code",
   "execution_count": 7,
   "id": "numerous-possible",
   "metadata": {},
   "outputs": [],
   "source": [
    "feature_assembler = VectorAssembler(inputCols=['age', 'Experience'], outputCol='X_features')"
   ]
  },
  {
   "cell_type": "code",
   "execution_count": 8,
   "id": "occupied-burke",
   "metadata": {},
   "outputs": [],
   "source": [
    "ouput_features = feature_assembler.transform(df)"
   ]
  },
  {
   "cell_type": "code",
   "execution_count": 9,
   "id": "split-measure",
   "metadata": {},
   "outputs": [
    {
     "name": "stdout",
     "output_type": "stream",
     "text": [
      "+---------+---+----------+------+-----------+\n",
      "|     Name|age|Experience|Salary| X_features|\n",
      "+---------+---+----------+------+-----------+\n",
      "|    Krish| 31|        10| 30000|[31.0,10.0]|\n",
      "|Sudhanshu| 30|         8| 25000| [30.0,8.0]|\n",
      "|    Sunny| 29|         4| 20000| [29.0,4.0]|\n",
      "|     Paul| 24|         3| 20000| [24.0,3.0]|\n",
      "|   Harsha| 21|         1| 15000| [21.0,1.0]|\n",
      "|  Shubham| 23|         2| 18000| [23.0,2.0]|\n",
      "+---------+---+----------+------+-----------+\n",
      "\n"
     ]
    }
   ],
   "source": [
    "ouput_features.show()"
   ]
  },
  {
   "cell_type": "code",
   "execution_count": 10,
   "id": "secure-merchandise",
   "metadata": {},
   "outputs": [
    {
     "data": {
      "text/plain": [
       "['Name', 'age', 'Experience', 'Salary', 'X_features']"
      ]
     },
     "execution_count": 10,
     "metadata": {},
     "output_type": "execute_result"
    }
   ],
   "source": [
    "ouput_features.columns"
   ]
  },
  {
   "cell_type": "code",
   "execution_count": 11,
   "id": "cross-burlington",
   "metadata": {},
   "outputs": [],
   "source": [
    "finaled_data = ouput_features.select('X_features', 'Salary')"
   ]
  },
  {
   "cell_type": "code",
   "execution_count": 12,
   "id": "tough-general",
   "metadata": {},
   "outputs": [
    {
     "name": "stdout",
     "output_type": "stream",
     "text": [
      "+-----------+------+\n",
      "| X_features|Salary|\n",
      "+-----------+------+\n",
      "|[31.0,10.0]| 30000|\n",
      "| [30.0,8.0]| 25000|\n",
      "| [29.0,4.0]| 20000|\n",
      "| [24.0,3.0]| 20000|\n",
      "| [21.0,1.0]| 15000|\n",
      "| [23.0,2.0]| 18000|\n",
      "+-----------+------+\n",
      "\n"
     ]
    }
   ],
   "source": [
    "finaled_data.show()"
   ]
  },
  {
   "cell_type": "markdown",
   "id": "quality-decline",
   "metadata": {},
   "source": [
    "## Split into train and test set"
   ]
  },
  {
   "cell_type": "code",
   "execution_count": 28,
   "id": "determined-jackson",
   "metadata": {},
   "outputs": [],
   "source": [
    "train_data, test_data = finaled_data.randomSplit([0.70, 0.30])"
   ]
  },
  {
   "cell_type": "code",
   "execution_count": 29,
   "id": "authorized-budapest",
   "metadata": {},
   "outputs": [
    {
     "name": "stdout",
     "output_type": "stream",
     "text": [
      "+-------+-----------------+\n",
      "|summary|           Salary|\n",
      "+-------+-----------------+\n",
      "|  count|                5|\n",
      "|   mean|          22600.0|\n",
      "| stddev|4878.524367060188|\n",
      "|    min|            18000|\n",
      "|    max|            30000|\n",
      "+-------+-----------------+\n",
      "\n"
     ]
    }
   ],
   "source": [
    "train_data.describe().show()"
   ]
  },
  {
   "cell_type": "code",
   "execution_count": 30,
   "id": "presidential-drama",
   "metadata": {},
   "outputs": [
    {
     "name": "stdout",
     "output_type": "stream",
     "text": [
      "+-------+-------+\n",
      "|summary| Salary|\n",
      "+-------+-------+\n",
      "|  count|      1|\n",
      "|   mean|15000.0|\n",
      "| stddev|    NaN|\n",
      "|    min|  15000|\n",
      "|    max|  15000|\n",
      "+-------+-------+\n",
      "\n"
     ]
    }
   ],
   "source": [
    "test_data.describe().show()"
   ]
  },
  {
   "cell_type": "code",
   "execution_count": 36,
   "id": "starting-happiness",
   "metadata": {},
   "outputs": [
    {
     "name": "stdout",
     "output_type": "stream",
     "text": [
      "+----------+------+\n",
      "|X_features|Salary|\n",
      "+----------+------+\n",
      "|[21.0,1.0]| 15000|\n",
      "+----------+------+\n",
      "\n"
     ]
    }
   ],
   "source": [
    "test_data.show()"
   ]
  },
  {
   "cell_type": "markdown",
   "id": "necessary-skirt",
   "metadata": {},
   "source": [
    "## Build a model"
   ]
  },
  {
   "cell_type": "code",
   "execution_count": 13,
   "id": "pacific-conducting",
   "metadata": {},
   "outputs": [],
   "source": [
    "from pyspark.ml.regression import LinearRegression"
   ]
  },
  {
   "cell_type": "code",
   "execution_count": 31,
   "id": "cardiac-deficit",
   "metadata": {},
   "outputs": [],
   "source": [
    "lr = LinearRegression(featuresCol='X_features',labelCol='Salary')\n",
    "lr = lr.fit(train_data)"
   ]
  },
  {
   "cell_type": "code",
   "execution_count": 32,
   "id": "sunset-percentage",
   "metadata": {},
   "outputs": [
    {
     "data": {
      "text/plain": [
       "22295.299605312008"
      ]
     },
     "execution_count": 32,
     "metadata": {},
     "output_type": "execute_result"
    }
   ],
   "source": [
    "lr.intercept"
   ]
  },
  {
   "cell_type": "code",
   "execution_count": 33,
   "id": "alternate-triangle",
   "metadata": {},
   "outputs": [
    {
     "data": {
      "text/plain": [
       "DenseVector([-323.2867, 1696.8066])"
      ]
     },
     "execution_count": 33,
     "metadata": {},
     "output_type": "execute_result"
    }
   ],
   "source": [
    "lr.coefficients"
   ]
  },
  {
   "cell_type": "code",
   "execution_count": 34,
   "id": "equal-clock",
   "metadata": {},
   "outputs": [],
   "source": [
    "yhat = lr.evaluate(test_data)"
   ]
  },
  {
   "cell_type": "code",
   "execution_count": 35,
   "id": "loaded-supply",
   "metadata": {},
   "outputs": [
    {
     "name": "stdout",
     "output_type": "stream",
     "text": [
      "+----------+------+------------------+\n",
      "|X_features|Salary|        prediction|\n",
      "+----------+------+------------------+\n",
      "|[21.0,1.0]| 15000|17203.085755292603|\n",
      "+----------+------+------------------+\n",
      "\n"
     ]
    }
   ],
   "source": [
    "yhat.predictions.show()"
   ]
  },
  {
   "cell_type": "code",
   "execution_count": 38,
   "id": "listed-thunder",
   "metadata": {},
   "outputs": [
    {
     "data": {
      "text/plain": [
       "(2203.0857552926027, 2203.0857552926027)"
      ]
     },
     "execution_count": 38,
     "metadata": {},
     "output_type": "execute_result"
    }
   ],
   "source": [
    "yhat.meanAbsoluteError, yhat.meanAbsoluteError"
   ]
  },
  {
   "cell_type": "code",
   "execution_count": null,
   "id": "changing-looking",
   "metadata": {},
   "outputs": [],
   "source": []
  }
 ],
 "metadata": {
  "kernelspec": {
   "display_name": "Python 3",
   "language": "python",
   "name": "python3"
  },
  "language_info": {
   "codemirror_mode": {
    "name": "ipython",
    "version": 3
   },
   "file_extension": ".py",
   "mimetype": "text/x-python",
   "name": "python",
   "nbconvert_exporter": "python",
   "pygments_lexer": "ipython3",
   "version": "3.8.5"
  }
 },
 "nbformat": 4,
 "nbformat_minor": 5
}
