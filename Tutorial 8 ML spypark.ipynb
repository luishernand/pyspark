{
 "cells": [
  {
   "cell_type": "markdown",
   "id": "outstanding-accounting",
   "metadata": {},
   "source": [
    "## Libraries"
   ]
  },
  {
   "cell_type": "code",
   "execution_count": 1,
   "id": "third-console",
   "metadata": {},
   "outputs": [],
   "source": [
    "from pyspark.sql import SparkSession"
   ]
  },
  {
   "cell_type": "code",
   "execution_count": 3,
   "id": "driving-coach",
   "metadata": {},
   "outputs": [],
   "source": [
    "#create a session\n",
    "spark = SparkSession.builder.appName('Ml_8').getOrCreate()"
   ]
  },
  {
   "cell_type": "markdown",
   "id": "curious-quantum",
   "metadata": {},
   "source": [
    "## Read dataset"
   ]
  },
  {
   "cell_type": "code",
   "execution_count": 4,
   "id": "lesbian-worst",
   "metadata": {},
   "outputs": [],
   "source": [
    "df = spark.read.csv('tips.csv', header=True, inferSchema=True)"
   ]
  },
  {
   "cell_type": "code",
   "execution_count": 5,
   "id": "placed-document",
   "metadata": {},
   "outputs": [
    {
     "name": "stdout",
     "output_type": "stream",
     "text": [
      "+----------+----+------+------+---+------+----+\n",
      "|total_bill| tip|   sex|smoker|day|  time|size|\n",
      "+----------+----+------+------+---+------+----+\n",
      "|     16.99|1.01|Female|    No|Sun|Dinner|   2|\n",
      "|     10.34|1.66|  Male|    No|Sun|Dinner|   3|\n",
      "|     21.01| 3.5|  Male|    No|Sun|Dinner|   3|\n",
      "|     23.68|3.31|  Male|    No|Sun|Dinner|   2|\n",
      "|     24.59|3.61|Female|    No|Sun|Dinner|   4|\n",
      "+----------+----+------+------+---+------+----+\n",
      "only showing top 5 rows\n",
      "\n"
     ]
    }
   ],
   "source": [
    "df.show(5)"
   ]
  },
  {
   "cell_type": "code",
   "execution_count": 6,
   "id": "collected-conservation",
   "metadata": {},
   "outputs": [
    {
     "name": "stdout",
     "output_type": "stream",
     "text": [
      "root\n",
      " |-- total_bill: double (nullable = true)\n",
      " |-- tip: double (nullable = true)\n",
      " |-- sex: string (nullable = true)\n",
      " |-- smoker: string (nullable = true)\n",
      " |-- day: string (nullable = true)\n",
      " |-- time: string (nullable = true)\n",
      " |-- size: integer (nullable = true)\n",
      "\n"
     ]
    }
   ],
   "source": [
    "df.printSchema()"
   ]
  },
  {
   "cell_type": "markdown",
   "id": "eight-zealand",
   "metadata": {},
   "source": [
    "## handling with categorical Features"
   ]
  },
  {
   "cell_type": "code",
   "execution_count": 7,
   "id": "eligible-settle",
   "metadata": {},
   "outputs": [],
   "source": [
    "from pyspark.ml.feature import StringIndexer"
   ]
  },
  {
   "cell_type": "code",
   "execution_count": 9,
   "id": "cardiovascular-forward",
   "metadata": {},
   "outputs": [],
   "source": [
    "indexer = StringIndexer(inputCols=['sex', 'smoker', 'time'], outputCols=['sex_num', 'smoker_num', 'time_num'])"
   ]
  },
  {
   "cell_type": "code",
   "execution_count": 10,
   "id": "destroyed-answer",
   "metadata": {},
   "outputs": [],
   "source": [
    "df_r =  indexer.fit(df).transform(df)"
   ]
  },
  {
   "cell_type": "code",
   "execution_count": 11,
   "id": "expected-princeton",
   "metadata": {},
   "outputs": [
    {
     "name": "stdout",
     "output_type": "stream",
     "text": [
      "+----------+----+------+------+---+------+----+-------+----------+--------+\n",
      "|total_bill| tip|   sex|smoker|day|  time|size|sex_num|smoker_num|time_num|\n",
      "+----------+----+------+------+---+------+----+-------+----------+--------+\n",
      "|     16.99|1.01|Female|    No|Sun|Dinner|   2|    1.0|       0.0|     0.0|\n",
      "|     10.34|1.66|  Male|    No|Sun|Dinner|   3|    0.0|       0.0|     0.0|\n",
      "|     21.01| 3.5|  Male|    No|Sun|Dinner|   3|    0.0|       0.0|     0.0|\n",
      "|     23.68|3.31|  Male|    No|Sun|Dinner|   2|    0.0|       0.0|     0.0|\n",
      "|     24.59|3.61|Female|    No|Sun|Dinner|   4|    1.0|       0.0|     0.0|\n",
      "|     25.29|4.71|  Male|    No|Sun|Dinner|   4|    0.0|       0.0|     0.0|\n",
      "|      8.77| 2.0|  Male|    No|Sun|Dinner|   2|    0.0|       0.0|     0.0|\n",
      "|     26.88|3.12|  Male|    No|Sun|Dinner|   4|    0.0|       0.0|     0.0|\n",
      "|     15.04|1.96|  Male|    No|Sun|Dinner|   2|    0.0|       0.0|     0.0|\n",
      "|     14.78|3.23|  Male|    No|Sun|Dinner|   2|    0.0|       0.0|     0.0|\n",
      "|     10.27|1.71|  Male|    No|Sun|Dinner|   2|    0.0|       0.0|     0.0|\n",
      "|     35.26| 5.0|Female|    No|Sun|Dinner|   4|    1.0|       0.0|     0.0|\n",
      "|     15.42|1.57|  Male|    No|Sun|Dinner|   2|    0.0|       0.0|     0.0|\n",
      "|     18.43| 3.0|  Male|    No|Sun|Dinner|   4|    0.0|       0.0|     0.0|\n",
      "|     14.83|3.02|Female|    No|Sun|Dinner|   2|    1.0|       0.0|     0.0|\n",
      "|     21.58|3.92|  Male|    No|Sun|Dinner|   2|    0.0|       0.0|     0.0|\n",
      "|     10.33|1.67|Female|    No|Sun|Dinner|   3|    1.0|       0.0|     0.0|\n",
      "|     16.29|3.71|  Male|    No|Sun|Dinner|   3|    0.0|       0.0|     0.0|\n",
      "|     16.97| 3.5|Female|    No|Sun|Dinner|   3|    1.0|       0.0|     0.0|\n",
      "|     20.65|3.35|  Male|    No|Sat|Dinner|   3|    0.0|       0.0|     0.0|\n",
      "+----------+----+------+------+---+------+----+-------+----------+--------+\n",
      "only showing top 20 rows\n",
      "\n"
     ]
    }
   ],
   "source": [
    "df_r.show()"
   ]
  },
  {
   "cell_type": "markdown",
   "id": "ceramic-overview",
   "metadata": {},
   "source": [
    "## Select features and put all together Vector Asm"
   ]
  },
  {
   "cell_type": "code",
   "execution_count": 13,
   "id": "biological-abuse",
   "metadata": {},
   "outputs": [
    {
     "data": {
      "text/plain": [
       "['total_bill',\n",
       " 'tip',\n",
       " 'sex',\n",
       " 'smoker',\n",
       " 'day',\n",
       " 'time',\n",
       " 'size',\n",
       " 'sex_num',\n",
       " 'smoker_num',\n",
       " 'time_num']"
      ]
     },
     "execution_count": 13,
     "metadata": {},
     "output_type": "execute_result"
    }
   ],
   "source": [
    "df_r.columns"
   ]
  },
  {
   "cell_type": "code",
   "execution_count": 12,
   "id": "metric-hungary",
   "metadata": {},
   "outputs": [],
   "source": [
    "from pyspark.ml.feature import VectorAssembler"
   ]
  },
  {
   "cell_type": "code",
   "execution_count": 14,
   "id": "upset-heart",
   "metadata": {},
   "outputs": [],
   "source": [
    "vector_a = VectorAssembler(inputCols=['tip', 'size', 'sex_num', 'smoker_num', 'time_num'],\n",
    "                          outputCol='independet_fetures')\n",
    "output = vector_a.transform(df_r)"
   ]
  },
  {
   "cell_type": "code",
   "execution_count": 15,
   "id": "tough-antigua",
   "metadata": {},
   "outputs": [
    {
     "name": "stdout",
     "output_type": "stream",
     "text": [
      "+----------+----+------+------+---+------+----+-------+----------+--------+--------------------+\n",
      "|total_bill| tip|   sex|smoker|day|  time|size|sex_num|smoker_num|time_num|  independet_fetures|\n",
      "+----------+----+------+------+---+------+----+-------+----------+--------+--------------------+\n",
      "|     16.99|1.01|Female|    No|Sun|Dinner|   2|    1.0|       0.0|     0.0|[1.01,2.0,1.0,0.0...|\n",
      "|     10.34|1.66|  Male|    No|Sun|Dinner|   3|    0.0|       0.0|     0.0|(5,[0,1],[1.66,3.0])|\n",
      "|     21.01| 3.5|  Male|    No|Sun|Dinner|   3|    0.0|       0.0|     0.0| (5,[0,1],[3.5,3.0])|\n",
      "|     23.68|3.31|  Male|    No|Sun|Dinner|   2|    0.0|       0.0|     0.0|(5,[0,1],[3.31,2.0])|\n",
      "|     24.59|3.61|Female|    No|Sun|Dinner|   4|    1.0|       0.0|     0.0|[3.61,4.0,1.0,0.0...|\n",
      "+----------+----+------+------+---+------+----+-------+----------+--------+--------------------+\n",
      "only showing top 5 rows\n",
      "\n"
     ]
    }
   ],
   "source": [
    "output.show(5)"
   ]
  },
  {
   "cell_type": "code",
   "execution_count": 18,
   "id": "recreational-portsmouth",
   "metadata": {},
   "outputs": [],
   "source": [
    "finalized_data = output.select('independet_fetures', 'total_bill')"
   ]
  },
  {
   "cell_type": "code",
   "execution_count": 19,
   "id": "peaceful-pathology",
   "metadata": {},
   "outputs": [
    {
     "name": "stdout",
     "output_type": "stream",
     "text": [
      "+--------------------+----------+\n",
      "|  independet_fetures|total_bill|\n",
      "+--------------------+----------+\n",
      "|[1.01,2.0,1.0,0.0...|     16.99|\n",
      "|(5,[0,1],[1.66,3.0])|     10.34|\n",
      "| (5,[0,1],[3.5,3.0])|     21.01|\n",
      "|(5,[0,1],[3.31,2.0])|     23.68|\n",
      "|[3.61,4.0,1.0,0.0...|     24.59|\n",
      "+--------------------+----------+\n",
      "only showing top 5 rows\n",
      "\n"
     ]
    }
   ],
   "source": [
    "finalized_data.show(5)"
   ]
  },
  {
   "cell_type": "markdown",
   "id": "eastern-measure",
   "metadata": {},
   "source": [
    "## Train and test split"
   ]
  },
  {
   "cell_type": "code",
   "execution_count": 21,
   "id": "classified-penetration",
   "metadata": {},
   "outputs": [],
   "source": [
    "train_data, test_data = finalized_data.randomSplit([0.70, 0.30])"
   ]
  },
  {
   "cell_type": "markdown",
   "id": "behavioral-wedding",
   "metadata": {},
   "source": [
    "## Build Model"
   ]
  },
  {
   "cell_type": "code",
   "execution_count": 20,
   "id": "comparable-antarctica",
   "metadata": {},
   "outputs": [],
   "source": [
    "from pyspark.ml.regression import LinearRegression"
   ]
  },
  {
   "cell_type": "code",
   "execution_count": 22,
   "id": "acoustic-intersection",
   "metadata": {},
   "outputs": [],
   "source": [
    "model = LinearRegression(featuresCol='independet_fetures', labelCol= 'total_bill')\n",
    "regressor = model.fit(train_data)"
   ]
  },
  {
   "cell_type": "code",
   "execution_count": 23,
   "id": "pressing-heating",
   "metadata": {},
   "outputs": [
    {
     "data": {
      "text/plain": [
       "DenseVector([3.1518, 3.6716, -1.2671, 2.1572, -1.5825])"
      ]
     },
     "execution_count": 23,
     "metadata": {},
     "output_type": "execute_result"
    }
   ],
   "source": [
    "regressor.coefficients"
   ]
  },
  {
   "cell_type": "code",
   "execution_count": 24,
   "id": "civil-tennis",
   "metadata": {},
   "outputs": [
    {
     "data": {
      "text/plain": [
       "0.8231175873348526"
      ]
     },
     "execution_count": 24,
     "metadata": {},
     "output_type": "execute_result"
    }
   ],
   "source": [
    "regressor.intercept"
   ]
  },
  {
   "cell_type": "markdown",
   "id": "adapted-suggestion",
   "metadata": {},
   "source": [
    "### Predictions"
   ]
  },
  {
   "cell_type": "code",
   "execution_count": 25,
   "id": "theoretical-orbit",
   "metadata": {},
   "outputs": [],
   "source": [
    "pred_results = regressor.evaluate(test_data)"
   ]
  },
  {
   "cell_type": "code",
   "execution_count": 26,
   "id": "charitable-ecology",
   "metadata": {},
   "outputs": [
    {
     "name": "stdout",
     "output_type": "stream",
     "text": [
      "+--------------------+----------+------------------+\n",
      "|  independet_fetures|total_bill|        prediction|\n",
      "+--------------------+----------+------------------+\n",
      "|(5,[0,1],[1.25,2.0])|     10.51|12.105944001464891|\n",
      "|(5,[0,1],[1.32,2.0])|      9.68| 12.32656737645623|\n",
      "|(5,[0,1],[1.47,2.0])|     10.77|12.799331751437672|\n",
      "| (5,[0,1],[1.5,2.0])|     12.46|12.893884626433959|\n",
      "|(5,[0,1],[1.56,2.0])|      9.94|13.082990376426537|\n",
      "|(5,[0,1],[1.66,3.0])|     10.34| 17.06972827105651|\n",
      "|(5,[0,1],[1.75,2.0])|     17.82| 13.68182525140303|\n",
      "| (5,[0,1],[2.0,2.0])|      8.77|  14.4697658763721|\n",
      "| (5,[0,1],[2.0,4.0])|     19.77|21.812889165656788|\n",
      "| (5,[0,1],[2.0,4.0])|     24.55|21.812889165656788|\n",
      "|(5,[0,1],[2.34,4.0])|     17.81|22.884488415614722|\n",
      "| (5,[0,1],[2.5,2.0])|     14.07| 16.04564712631024|\n",
      "| (5,[0,1],[3.0,2.0])|     18.04|17.621528376248378|\n",
      "|(5,[0,1],[3.15,3.0])|     20.08|21.765854395872164|\n",
      "|(5,[0,1],[3.48,3.0])|     24.52|22.805936020831336|\n",
      "|(5,[0,1],[3.51,2.0])|     19.49|19.228927251185283|\n",
      "| (5,[0,1],[3.6,3.0])|     24.06| 23.18414752081649|\n",
      "|(5,[0,1],[3.71,3.0])|     16.29|23.530841395802884|\n",
      "|(5,[0,1],[3.92,2.0])|     21.58|20.521149876134558|\n",
      "| (5,[0,1],[4.5,4.0])|     31.71|29.692295415347488|\n",
      "+--------------------+----------+------------------+\n",
      "only showing top 20 rows\n",
      "\n"
     ]
    }
   ],
   "source": [
    "pred_results.predictions.show()"
   ]
  },
  {
   "cell_type": "markdown",
   "id": "lesbian-excuse",
   "metadata": {},
   "source": [
    "### Evaluatin Score"
   ]
  },
  {
   "cell_type": "code",
   "execution_count": 27,
   "id": "piano-confidentiality",
   "metadata": {},
   "outputs": [
    {
     "data": {
      "text/plain": [
       "0.4439171497021679"
      ]
     },
     "execution_count": 27,
     "metadata": {},
     "output_type": "execute_result"
    }
   ],
   "source": [
    "pred_results.r2"
   ]
  },
  {
   "cell_type": "code",
   "execution_count": 28,
   "id": "american-alexandria",
   "metadata": {},
   "outputs": [
    {
     "data": {
      "text/plain": [
       "4.287457542312645"
      ]
     },
     "execution_count": 28,
     "metadata": {},
     "output_type": "execute_result"
    }
   ],
   "source": [
    "pred_results.meanAbsoluteError"
   ]
  },
  {
   "cell_type": "code",
   "execution_count": 29,
   "id": "increasing-sound",
   "metadata": {},
   "outputs": [
    {
     "data": {
      "text/plain": [
       "35.75276206852547"
      ]
     },
     "execution_count": 29,
     "metadata": {},
     "output_type": "execute_result"
    }
   ],
   "source": [
    "pred_results.meanSquaredError"
   ]
  }
 ],
 "metadata": {
  "kernelspec": {
   "display_name": "Python 3",
   "language": "python",
   "name": "python3"
  },
  "language_info": {
   "codemirror_mode": {
    "name": "ipython",
    "version": 3
   },
   "file_extension": ".py",
   "mimetype": "text/x-python",
   "name": "python",
   "nbconvert_exporter": "python",
   "pygments_lexer": "ipython3",
   "version": "3.8.5"
  }
 },
 "nbformat": 4,
 "nbformat_minor": 5
}
